{
 "cells": [
  {
   "cell_type": "markdown",
   "id": "2087c0b2",
   "metadata": {},
   "source": [
    "# Schizophrenia Prediction Model"
   ]
  },
  {
   "cell_type": "code",
   "execution_count": 5,
   "id": "a2e6b1f0",
   "metadata": {},
   "outputs": [],
   "source": [
    "import pandas as pd\n",
    "import numpy as np\n",
    "import matplotlib.pyplot as plt"
   ]
  },
  {
   "cell_type": "code",
   "execution_count": 11,
   "id": "a4cff94b",
   "metadata": {},
   "outputs": [
    {
     "name": "stdout",
     "output_type": "stream",
     "text": [
      "(5000, 10)\n",
      "              Age      Fatigue      Slowing         Pain      Hygiene  \\\n",
      "count  5000.00000  4756.000000  4771.000000  4758.000000  5000.000000   \n",
      "mean     74.83340     0.503835     0.499524     0.499612     0.499717   \n",
      "std       9.57787     0.296123     0.295365     0.294886     0.294907   \n",
      "min      55.00000    -0.095115    -0.094843    -0.095771    -0.094284   \n",
      "25%      67.00000     0.247056     0.245795     0.251174     0.248998   \n",
      "50%      75.00000     0.506278     0.502403     0.498051     0.501223   \n",
      "75%      83.00000     0.759499     0.744812     0.749946     0.751029   \n",
      "max      95.00000     1.091136     1.092146     1.090027     1.086922   \n",
      "\n",
      "          Movement  \n",
      "count  5000.000000  \n",
      "mean      0.499952  \n",
      "std       0.289860  \n",
      "min      -0.089272  \n",
      "25%       0.254143  \n",
      "50%       0.503340  \n",
      "75%       0.741253  \n",
      "max       1.088914  \n",
      "                    Name  Age  Gender Marital_Status   Fatigue   Slowing  \\\n",
      "0         Leslie Goodwin   68  Female         Single  0.698075  0.123064   \n",
      "1     Dr. Troy Castaneda   88    Male        Married  0.049245 -0.042080   \n",
      "2          Chelsey Allen   67  Female        Married  0.651995  0.187117   \n",
      "3  Dr. Devin Skinner DVM   95  Female        Widowed  0.036324  0.580808   \n",
      "4           Megan Mendez   81  Female        Widowed  0.926727  0.484202   \n",
      "\n",
      "       Pain   Hygiene  Movement       Schizophrenia  \n",
      "0  0.375303  0.234639  0.251869  Elevated Proneness  \n",
      "1  0.432807  0.501238  0.379948  Moderate Proneness  \n",
      "2       NaN  0.301942  0.302588  Elevated Proneness  \n",
      "3  0.005356  0.306968  0.813618  Moderate Proneness  \n",
      "4  0.702405  0.736054  0.579448      High Proneness  \n",
      "<class 'pandas.core.frame.DataFrame'>\n",
      "RangeIndex: 5000 entries, 0 to 4999\n",
      "Data columns (total 10 columns):\n",
      " #   Column          Non-Null Count  Dtype  \n",
      "---  ------          --------------  -----  \n",
      " 0   Name            5000 non-null   object \n",
      " 1   Age             5000 non-null   int64  \n",
      " 2   Gender          5000 non-null   object \n",
      " 3   Marital_Status  5000 non-null   object \n",
      " 4   Fatigue         4756 non-null   float64\n",
      " 5   Slowing         4771 non-null   float64\n",
      " 6   Pain            4758 non-null   float64\n",
      " 7   Hygiene         5000 non-null   float64\n",
      " 8   Movement        5000 non-null   float64\n",
      " 9   Schizophrenia   5000 non-null   object \n",
      "dtypes: float64(5), int64(1), object(4)\n",
      "memory usage: 390.8+ KB\n",
      "None\n"
     ]
    }
   ],
   "source": [
    "data = pd.read_csv('SchizophreniaSymptomnsData.csv')\n",
    "\n",
    "print(data.shape)\n",
    "print(data.describe())\n",
    "print(data.head())\n",
    "print(data.info())"
   ]
  }
 ],
 "metadata": {
  "kernelspec": {
   "display_name": ".venv",
   "language": "python",
   "name": "python3"
  },
  "language_info": {
   "codemirror_mode": {
    "name": "ipython",
    "version": 3
   },
   "file_extension": ".py",
   "mimetype": "text/x-python",
   "name": "python",
   "nbconvert_exporter": "python",
   "pygments_lexer": "ipython3",
   "version": "3.10.9"
  }
 },
 "nbformat": 4,
 "nbformat_minor": 5
}
